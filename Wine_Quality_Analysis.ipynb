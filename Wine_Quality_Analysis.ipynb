{
 "cells": [
  {
   "cell_type": "markdown",
   "id": "6e419532",
   "metadata": {},
   "source": [
    "\n",
    "# Wine Quality Analysis (Jupyter Notebook)\n",
    "\n",
    "This notebook explores the **Wine Quality (red wine)** dataset from the UCI Machine Learning Repository. \n",
    "We demonstrate how to load the dataset, inspect its structure, visualize the distribution of quality scores, and compute correlations between physicochemical properties and the wine quality score.\n"
   ]
  },
  {
   "cell_type": "code",
   "execution_count": null,
   "id": "c22f1b69",
   "metadata": {},
   "outputs": [],
   "source": [
    "\n",
    "import os\n",
    "import pandas as pd\n",
    "import matplotlib.pyplot as plt\n",
    "import seaborn as sns\n",
    "\n",
    "# Load the dataset; download if it does not exist\n",
    "local_path = 'winequality-red.csv'\n",
    "url = 'https://archive.ics.uci.edu/ml/machine-learning-databases/wine-quality/winequality-red.csv'\n",
    "\n",
    "if not os.path.exists(local_path):\n",
    "    import requests\n",
    "    print('Downloading dataset from UCI repository...')\n",
    "    r = requests.get(url)\n",
    "    with open(local_path, 'wb') as f:\n",
    "        f.write(r.content)\n",
    "\n",
    "# Read the CSV file (semicolon separated)\n",
    "df = pd.read_csv(local_path, sep=';')\n",
    "print(\"First five rows of the dataset:\")\n",
    "print(df.head())\n",
    "\n",
    "print(\"\n",
    "Summary statistics:\")\n",
    "print(df.describe())\n"
   ]
  },
  {
   "cell_type": "code",
   "execution_count": null,
   "id": "36cefc05",
   "metadata": {},
   "outputs": [],
   "source": [
    "\n",
    "# Plot distribution of quality scores\n",
    "quality_counts = df['quality'].value_counts().sort_index()\n",
    "plt.figure(figsize=(8,5))\n",
    "plt.bar(quality_counts.index, quality_counts.values, color='skyblue')\n",
    "plt.xlabel('Wine Quality Score')\n",
    "plt.ylabel('Number of Samples')\n",
    "plt.title('Distribution of Wine Quality Scores')\n",
    "plt.xticks(quality_counts.index)\n",
    "plt.show()\n"
   ]
  },
  {
   "cell_type": "code",
   "execution_count": null,
   "id": "edca782f",
   "metadata": {},
   "outputs": [],
   "source": [
    "\n",
    "# Compute correlation between physicochemical properties and quality\n",
    "correlations = df.corr()['quality'].drop('quality')\n",
    "print('\n",
    "Correlation of features with wine quality:')\n",
    "print(correlations)\n",
    "\n",
    "# Plot heatmap of correlations\n",
    "plt.figure(figsize=(10,8))\n",
    "sns.heatmap(df.corr(), annot=False, cmap='coolwarm', center=0)\n",
    "plt.title('Correlation Heatmap')\n",
    "plt.show()\n"
   ]
  }
 ],
 "metadata": {},
 "nbformat": 4,
 "nbformat_minor": 5
}
